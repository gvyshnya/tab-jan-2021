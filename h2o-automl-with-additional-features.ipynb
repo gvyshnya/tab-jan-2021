{
 "cells": [
  {
   "cell_type": "code",
   "execution_count": 1,
   "metadata": {
    "_cell_guid": "b1076dfc-b9ad-4769-8c92-a6c4dae69d19",
    "_uuid": "8f2839f25d086af736a60e9eeb907d3b93b6e0e5",
    "execution": {
     "iopub.execute_input": "2021-01-30T03:45:03.138857Z",
     "iopub.status.busy": "2021-01-30T03:45:03.138139Z",
     "iopub.status.idle": "2021-01-30T03:45:03.143160Z",
     "shell.execute_reply": "2021-01-30T03:45:03.143673Z"
    },
    "papermill": {
     "duration": 0.022796,
     "end_time": "2021-01-30T03:45:03.143993",
     "exception": false,
     "start_time": "2021-01-30T03:45:03.121197",
     "status": "completed"
    },
    "tags": []
   },
   "outputs": [
    {
     "name": "stderr",
     "output_type": "stream",
     "text": [
      "C:\\ProgramData\\Anaconda3\\lib\\site-packages\\numpy\\_distributor_init.py:32: UserWarning: loaded more than 1 DLL from .libs:\n",
      "C:\\ProgramData\\Anaconda3\\lib\\site-packages\\numpy\\.libs\\libopenblas.IPBC74C7KURV7CB2PKT5Z5FNR3SIBV4J.gfortran-win_amd64.dll\n",
      "C:\\ProgramData\\Anaconda3\\lib\\site-packages\\numpy\\.libs\\libopenblas.WCDJNK7YVMPZQ2ME2ZZHJJRJ3JIKNDB7.gfortran-win_amd64.dll\n",
      "  stacklevel=1)\n"
     ]
    }
   ],
   "source": [
    "# inspiered by https://www.kaggle.com/tunguz/jan-21-tps-h2o-automl\n",
    "\n",
    "import numpy as np # linear algebra\n",
    "import pandas as pd # data processing, CSV file I/O (e.g. pd.read_csv)\n",
    "import datetime as dt\n",
    "from typing import Tuple\n",
    "\n"
   ]
  },
  {
   "cell_type": "code",
   "execution_count": 2,
   "metadata": {
    "execution": {
     "iopub.execute_input": "2021-01-30T03:45:03.171063Z",
     "iopub.status.busy": "2021-01-30T03:45:03.170077Z",
     "iopub.status.idle": "2021-01-30T03:45:03.173796Z",
     "shell.execute_reply": "2021-01-30T03:45:03.174342Z"
    },
    "papermill": {
     "duration": 0.019368,
     "end_time": "2021-01-30T03:45:03.174516",
     "exception": false,
     "start_time": "2021-01-30T03:45:03.155148",
     "status": "completed"
    },
    "tags": []
   },
   "outputs": [
    {
     "name": "stdout",
     "output_type": "stream",
     "text": [
      "Started at  2021-01-30 22:58:22.425989\n"
     ]
    }
   ],
   "source": [
    "# main flow\n",
    "start_time = dt.datetime.now()\n",
    "print(\"Started at \", start_time)"
   ]
  },
  {
   "cell_type": "code",
   "execution_count": 3,
   "metadata": {
    "execution": {
     "iopub.execute_input": "2021-01-30T03:45:03.201879Z",
     "iopub.status.busy": "2021-01-30T03:45:03.201082Z",
     "iopub.status.idle": "2021-01-30T03:45:10.410313Z",
     "shell.execute_reply": "2021-01-30T03:45:10.411078Z"
    },
    "papermill": {
     "duration": 7.225464,
     "end_time": "2021-01-30T03:45:10.411364",
     "exception": false,
     "start_time": "2021-01-30T03:45:03.185900",
     "status": "completed"
    },
    "tags": []
   },
   "outputs": [
    {
     "name": "stdout",
     "output_type": "stream",
     "text": [
      "3.32.0.3\n",
      "Checking whether there is an H2O instance running at http://localhost:54321 ..... not found.\n",
      "Attempting to start a local H2O server...\n",
      "; Java HotSpot(TM) 64-Bit Server VM 18.9 (build 11.0.1+13-LTS, mixed mode)\n",
      "  Starting server from C:\\ProgramData\\Anaconda3\\lib\\site-packages\\h2o\\backend\\bin\\h2o.jar\n",
      "  Ice root: C:\\Users\\USER-PC\\AppData\\Local\\Temp\\tmp220oh13j\n",
      "  JVM stdout: C:\\Users\\USER-PC\\AppData\\Local\\Temp\\tmp220oh13j\\h2o_USER_PC_started_from_python.out\n",
      "  JVM stderr: C:\\Users\\USER-PC\\AppData\\Local\\Temp\\tmp220oh13j\\h2o_USER_PC_started_from_python.err\n",
      "  Server is running at http://127.0.0.1:54321\n",
      "Connecting to H2O server at http://127.0.0.1:54321 ... successful.\n"
     ]
    },
    {
     "data": {
      "text/html": [
       "<div style=\"overflow:auto\"><table style=\"width:50%\"><tr><td>H2O_cluster_uptime:</td>\n",
       "<td>02 secs</td></tr>\n",
       "<tr><td>H2O_cluster_timezone:</td>\n",
       "<td>Europe/Helsinki</td></tr>\n",
       "<tr><td>H2O_data_parsing_timezone:</td>\n",
       "<td>UTC</td></tr>\n",
       "<tr><td>H2O_cluster_version:</td>\n",
       "<td>3.32.0.3</td></tr>\n",
       "<tr><td>H2O_cluster_version_age:</td>\n",
       "<td>1 month and 6 days </td></tr>\n",
       "<tr><td>H2O_cluster_name:</td>\n",
       "<td>H2O_from_python_USER_PC_l1sndt</td></tr>\n",
       "<tr><td>H2O_cluster_total_nodes:</td>\n",
       "<td>1</td></tr>\n",
       "<tr><td>H2O_cluster_free_memory:</td>\n",
       "<td>16 Gb</td></tr>\n",
       "<tr><td>H2O_cluster_total_cores:</td>\n",
       "<td>0</td></tr>\n",
       "<tr><td>H2O_cluster_allowed_cores:</td>\n",
       "<td>0</td></tr>\n",
       "<tr><td>H2O_cluster_status:</td>\n",
       "<td>accepting new members, healthy</td></tr>\n",
       "<tr><td>H2O_connection_url:</td>\n",
       "<td>http://127.0.0.1:54321</td></tr>\n",
       "<tr><td>H2O_connection_proxy:</td>\n",
       "<td>{\"http\": null, \"https\": null}</td></tr>\n",
       "<tr><td>H2O_internal_security:</td>\n",
       "<td>False</td></tr>\n",
       "<tr><td>H2O_API_Extensions:</td>\n",
       "<td>Amazon S3, Algos, AutoML, Core V3, TargetEncoder, Core V4</td></tr>\n",
       "<tr><td>Python_version:</td>\n",
       "<td>3.7.0 final</td></tr></table></div>"
      ],
      "text/plain": [
       "--------------------------  ---------------------------------------------------------\n",
       "H2O_cluster_uptime:         02 secs\n",
       "H2O_cluster_timezone:       Europe/Helsinki\n",
       "H2O_data_parsing_timezone:  UTC\n",
       "H2O_cluster_version:        3.32.0.3\n",
       "H2O_cluster_version_age:    1 month and 6 days\n",
       "H2O_cluster_name:           H2O_from_python_USER_PC_l1sndt\n",
       "H2O_cluster_total_nodes:    1\n",
       "H2O_cluster_free_memory:    16 Gb\n",
       "H2O_cluster_total_cores:    0\n",
       "H2O_cluster_allowed_cores:  0\n",
       "H2O_cluster_status:         accepting new members, healthy\n",
       "H2O_connection_url:         http://127.0.0.1:54321\n",
       "H2O_connection_proxy:       {\"http\": null, \"https\": null}\n",
       "H2O_internal_security:      False\n",
       "H2O_API_Extensions:         Amazon S3, Algos, AutoML, Core V3, TargetEncoder, Core V4\n",
       "Python_version:             3.7.0 final\n",
       "--------------------------  ---------------------------------------------------------"
      ]
     },
     "metadata": {},
     "output_type": "display_data"
    }
   ],
   "source": [
    "# Starting H2O\n",
    "\n",
    "import h2o\n",
    "print(h2o.__version__)\n",
    "from h2o.automl import H2OAutoML\n",
    "\n",
    "h2o.init(max_mem_size='16G')"
   ]
  },
  {
   "cell_type": "code",
   "execution_count": 4,
   "metadata": {
    "execution": {
     "iopub.execute_input": "2021-01-30T03:45:10.482527Z",
     "iopub.status.busy": "2021-01-30T03:45:10.479877Z",
     "iopub.status.idle": "2021-01-30T03:45:10.492047Z",
     "shell.execute_reply": "2021-01-30T03:45:10.492962Z"
    },
    "papermill": {
     "duration": 0.049669,
     "end_time": "2021-01-30T03:45:10.493213",
     "exception": false,
     "start_time": "2021-01-30T03:45:10.443544",
     "status": "completed"
    },
    "tags": []
   },
   "outputs": [],
   "source": [
    "in_kaggle = False\n",
    "\n",
    "\n",
    "def get_data_file_path(is_in_kaggle: bool) -> Tuple[str, str, str]:\n",
    "    train_path = ''\n",
    "    test_path = ''\n",
    "    sample_submission_path = ''\n",
    "\n",
    "    if is_in_kaggle:\n",
    "        # running in Kaggle, inside the competition\n",
    "        train_path = '../input/tabular-playground-series-jan-2021/train.csv'\n",
    "        test_path = '../input/tabular-playground-series-jan-2021/test.csv'\n",
    "        sample_submission_path = '../input/tabular-playground-series-jan-2021/sample_submission.csv'\n",
    "    else:\n",
    "        # running locally\n",
    "        train_path = 'data/train.csv'\n",
    "        test_path = 'data/test.csv'\n",
    "        sample_submission_path = 'data/sample_submission.csv'\n",
    "\n",
    "    return train_path, test_path, sample_submission_path"
   ]
  },
  {
   "cell_type": "code",
   "execution_count": 5,
   "metadata": {
    "execution": {
     "iopub.execute_input": "2021-01-30T03:45:10.547567Z",
     "iopub.status.busy": "2021-01-30T03:45:10.546860Z",
     "iopub.status.idle": "2021-01-30T03:45:14.039111Z",
     "shell.execute_reply": "2021-01-30T03:45:14.039711Z"
    },
    "papermill": {
     "duration": 3.51994,
     "end_time": "2021-01-30T03:45:14.039879",
     "exception": false,
     "start_time": "2021-01-30T03:45:10.519939",
     "status": "completed"
    },
    "tags": []
   },
   "outputs": [
    {
     "name": "stdout",
     "output_type": "stream",
     "text": [
      "Wall time: 1.24 s\n"
     ]
    }
   ],
   "source": [
    "%%time\n",
    "# get the training set and labels\n",
    "train_set_path, test_set_path, sample_subm_path = get_data_file_path(in_kaggle)\n",
    "\n",
    "df_train = pd.read_csv(train_set_path)\n",
    "df_test = pd.read_csv(test_set_path)\n",
    "\n",
    "subm = pd.read_csv(sample_subm_path)\n",
    "\n",
    "# list of basic raw features\n",
    "feature_list = [col for col in df_train.columns if col.startswith('cont')]"
   ]
  },
  {
   "cell_type": "code",
   "execution_count": 6,
   "metadata": {
    "execution": {
     "iopub.execute_input": "2021-01-30T03:45:14.129393Z",
     "iopub.status.busy": "2021-01-30T03:45:14.110037Z",
     "iopub.status.idle": "2021-01-30T03:45:16.188057Z",
     "shell.execute_reply": "2021-01-30T03:45:16.188568Z"
    },
    "papermill": {
     "duration": 2.127559,
     "end_time": "2021-01-30T03:45:16.188755",
     "exception": false,
     "start_time": "2021-01-30T03:45:14.061196",
     "status": "completed"
    },
    "tags": []
   },
   "outputs": [
    {
     "name": "stdout",
     "output_type": "stream",
     "text": [
      "Wall time: 36 ms\n"
     ]
    }
   ],
   "source": [
    "%%time\n",
    "# add additional features pre-selected in the previous featurewiz feature importance experiments\n",
    "def add_extra_features(\n",
    "    train: pd.DataFrame, \n",
    "    test: pd.DataFrame) -> [pd.DataFrame, pd.DataFrame]:\n",
    "    \n",
    "    small_val = 0.00001\n",
    "    for df in [train, test]:\n",
    "        df['cont2_squared'] = df['cont2'] ** 2\n",
    "        df['cont3_squared'] = df['cont3'] ** 2\n",
    "        df['cont9_squared'] = df['cont9'] ** 2\n",
    "        df['cont12_squared'] = df['cont12'] ** 2\n",
    "        df['cont14_squared'] = df['cont14'] ** 2\n",
    "        df['cont7_squared'] = df['cont7'] ** 2\n",
    "        df['cont13_squared'] = df['cont13'] ** 2\n",
    "        df['cont8_squared'] = df['cont8'] ** 2\n",
    "        df['cont11_plus_cont3'] = df['cont11'] + df['cont3']\n",
    "        df['cont13_plus_cont3'] = df['cont13'] + df['cont3']\n",
    "        df['cont1_plus_cont4'] = df['cont1'] + df['cont4']\n",
    "        df['cont5_plus_cont11'] = df['cont5'] + df['cont11']\n",
    "        df['cont3_plus_cont8'] = df['cont3'] + df['cont8']\n",
    "        df['cont3_plus_cont14'] = df['cont3'] + df['cont14']\n",
    "        df['cont4_plus_cont3'] = df['cont4'] + df['cont3']\n",
    "        df['cont4_plus_cont2'] = df['cont4'] + df['cont2']\n",
    "        df['cont14_plus_cont11'] = df['cont14'] + df['cont11']\n",
    "        df['cont14_plus_cont4'] = df['cont14'] + df['cont4']\n",
    "        df['cont10_minus_cont12'] = df['cont10'] - df['cont12']\n",
    "        df['cont13_minus_cont2'] = df['cont13'] - df['cont2']\n",
    "        df['cont11_minus_cont10'] = df['cont11'] - df['cont10']\n",
    "        df['cont4_minus_cont11'] = df['cont4'] - df['cont11']\n",
    "        df['cont1_minus_cont6'] = df['cont1'] - df['cont6']\n",
    "        df['cont5_minus_cont4'] = df['cont5'] - df['cont4']\n",
    "        df['cont13_minus_cont10'] = df['cont13'] - df['cont10']\n",
    "        df['cont13_minus_cont6'] = df['cont13'] - df['cont6']\n",
    "        df['cont10_minus_cont6'] = df['cont10'] - df['cont6']\n",
    "        df['cont13_minus_cont8'] = df['cont13'] - df['cont8']\n",
    "        df['cont14_minus_cont13'] = df['cont14'] - df['cont13']\n",
    "        df['cont9_minus_cont13'] = df['cont9'] - df['cont13']\n",
    "        df['cont7_minus_cont13'] = df['cont7'] - df['cont13']\n",
    "        df['cont12_minus_cont8'] = df['cont12'] - df['cont8']\n",
    "        df['cont2_minus_cont3'] = df['cont2'] - df['cont3']\n",
    "        df['cont8_minus_cont4'] = df['cont8'] - df['cont4']\n",
    "        df['cont12_minus_cont6'] = df['cont12'] - df['cont6']\n",
    "        df['cont5_minus_cont2'] = df['cont5'] - df['cont12']\n",
    "        df['cont14_minus_cont8'] = df['cont14'] - df['cont8']\n",
    "        df['cont10_minus_cont9'] = df['cont10'] - df['cont9']\n",
    "        df['cont1_minus_cont9'] = df['cont1'] - df['cont9']\n",
    "        df['cont9_minus_cont12'] = df['cont9'] - df['cont12']\n",
    "        df['cont6_minus_cont11'] = df['cont6'] - df['cont11']\n",
    "        df['cont6_minus_cont9'] = df['cont6'] - df['cont9']\n",
    "        df['cont14_minus_cont4'] = df['cont14'] - df['cont4']\n",
    "        df['cont7_minus_cont11'] = df['cont7'] - df['cont11']\n",
    "        df['cont1_minus_cont10'] = df['cont1'] - df['cont10']\n",
    "        df['cont12_minus_cont11'] = df['cont12'] - df['cont11']\n",
    "        df['cont4_prod_cont3'] = df['cont4'] * df['cont3']\n",
    "        df['cont4_prod_cont2'] = df['cont4'] * df['cont2']\n",
    "        df['cont11_prod_cont4'] = df['cont11'] * df['cont4']\n",
    "        df['cont11_prod_cont3'] = df['cont11'] * df['cont3']\n",
    "        df['cont13_prod_cont3'] = df['cont13'] * df['cont3']\n",
    "        df['cont12_prod_cont5'] = df['cont12'] * df['cont5']\n",
    "        df['cont14_prod_cont11'] = df['cont14'] * df['cont11']\n",
    "        df['cont8_prod_cont3'] = df['cont8'] * df['cont3']\n",
    "        df['cont14_prod_cont3'] = df['cont14'] * df['cont3']\n",
    "        df['cont12_qq_cont10'] = (df['cont12'] + df['cont10']) * (df['cont12'] - df['cont10'])\n",
    "        df['cont10_qq_cont6'] = (df['cont10'] + df['cont6']) * (df['cont10'] - df['cont6'])\n",
    "        df['cont1_qq_cont6'] = (df['cont1'] + df['cont6']) * (df['cont1'] - df['cont6'])\n",
    "        df['cont13_qq_cont10'] = (df['cont13'] + df['cont10']) * (df['cont13'] - df['cont10'])\n",
    "        df['cont11_qq_cont13'] = (df['cont11'] + df['cont13']) * (df['cont11'] - df['cont13'])\n",
    "        df['cont4_qq_cont11'] = (df['cont4'] + df['cont11']) * (df['cont4'] - df['cont11'])\n",
    "        df['cont8_qq_cont10'] = (df['cont8'] + df['cont10']) * (df['cont8'] - df['cont10'])\n",
    "        df['cont9_qq_cont13'] = (df['cont9'] + df['cont13']) * (df['cont9'] - df['cont13'])\n",
    "        df['cont13_qq_cont2'] = (df['cont13'] + df['cont2']) * (df['cont13'] - df['cont2'])\n",
    "        df['cont5_qq_cont9'] = (df['cont5'] + df['cont9']) * (df['cont5'] - df['cont9'])\n",
    "        df['cont7_qq_cont2'] = (df['cont7'] + df['cont2']) * (df['cont7'] - df['cont2'])\n",
    "        df['cont1_qq_cont12'] = (df['cont1'] + df['cont12']) * (df['cont1'] - df['cont12'])\n",
    "        df['cont3_qq_cont11'] = (df['cont3'] + df['cont11']) * (df['cont3'] - df['cont11'])\n",
    "        df['cont5_qq_cont4'] = (df['cont5'] + df['cont4']) * (df['cont5'] - df['cont4'])\n",
    "        df['cont10_qq_cont9'] = (df['cont10'] + df['cont9']) * (df['cont10'] - df['cont9'])\n",
    "        df['cont7_qq_cont9'] = (df['cont7'] + df['cont9']) * (df['cont7'] - df['cont9'])\n",
    "        df['cont3_qq_cont2'] = (df['cont3'] + df['cont2']) * (df['cont3'] - df['cont2'])\n",
    "        df['cont1_qq_cont9'] = (df['cont1'] + df['cont9']) * (df['cont1'] - df['cont9'])\n",
    "        df['cont14_qq_cont8'] = (df['cont14'] + df['cont8']) * (df['cont14'] - df['cont8'])\n",
    "        df['cont8_qq_cont2'] = (df['cont8'] + df['cont2']) * (df['cont8'] - df['cont2'])\n",
    "        df['cont5_qq_cont14'] = (df['cont5'] + df['cont14']) * (df['cont5'] - df['cont14'])\n",
    "        df['cont6_qq_cont12'] = (df['cont6'] + df['cont12']) * (df['cont6'] - df['cont12'])\n",
    "        df['cont11_qq_cont14'] = (df['cont11'] + df['cont14']) * (df['cont11'] - df['cont14'])\n",
    "        df['cont12_qq_cont11'] = (df['cont12'] + df['cont11']) * (df['cont12'] - df['cont11'])\n",
    "        df['cont1_qq_cont10'] = (df['cont1'] + df['cont10']) * (df['cont1'] - df['cont10'])\n",
    "        df['cont4_qq_cont8'] = (df['cont4'] + df['cont8']) * (df['cont4'] - df['cont8'])\n",
    "        df['cont10_div2_cont12'] = (df['cont10'] - df['cont12']) / (df['cont10'] + df['cont12'] + small_val)\n",
    "        df['cont7_div2_cont1'] = (df['cont7'] - df['cont1']) / (df['cont7'] + df['cont1'] + small_val)\n",
    "        df['cont10_div2_cont11'] = (df['cont10'] - df['cont11']) / (df['cont10'] + df['cont11'] + small_val)\n",
    "        df['cont10_div2_cont6'] = (df['cont10'] - df['cont6']) / (df['cont10'] + df['cont6'] + small_val)\n",
    "        df['cont12_div2_cont13'] = (df['cont12'] - df['cont13']) / (df['cont12'] + df['cont13'] + small_val)\n",
    "        df['cont13_div2_cont8'] = (df['cont13'] - df['cont8']) / (df['cont13'] + df['cont8'] + small_val)\n",
    "        df['cont9_div2_cont2'] = (df['cont9'] - df['cont2']) / (df['cont9'] + df['cont2'] + small_val)\n",
    "        df['cont7_div2_cont4'] = (df['cont7'] - df['cont4']) / (df['cont7'] + df['cont4'] + small_val)\n",
    "        df['cont9_div2_cont3'] = (df['cont9'] - df['cont3']) / (df['cont9'] + df['cont3'] + small_val)\n",
    "        df['cont13_div2_cont1'] = (df['cont13'] - df['cont1']) / (df['cont13'] + df['cont1'] + small_val)\n",
    "        df['cont10_div2_cont13'] = (df['cont10'] - df['cont13']) / (df['cont10'] + df['cont13'] + small_val)\n",
    "        df['cont11_div2_cont3'] = (df['cont11'] - df['cont3']) / (df['cont11'] + df['cont3'] + small_val)\n",
    "        df['cont7_div2_cont10'] = (df['cont7'] - df['cont10']) / (df['cont7'] + df['cont10'] + small_val)\n",
    "        df['cont10_div2_cont1'] = (df['cont10'] - df['cont1']) / (df['cont10'] + df['cont1'] + small_val)\n",
    "        df['cont8_div2_cont11'] = (df['cont8'] - df['cont11']) / (df['cont8'] + df['cont11'] + small_val)\n",
    "        df['cont11_div2_cont9'] = (df['cont11'] - df['cont9']) / (df['cont11'] + df['cont9'] + small_val)\n",
    "        df['cont9_div2_cont6'] = (df['cont9'] - df['cont6']) / (df['cont9'] + df['cont6'] + small_val)\n",
    "        df['cont4_div2_cont14'] = (df['cont4'] - df['cont14']) / (df['cont4'] + df['cont14'] + small_val)\n",
    "        df['cont4_div2_cont5'] = (df['cont4'] - df['cont5']) / (df['cont4'] + df['cont5'] + small_val)\n",
    "        df['cont9_div2_cont1'] = (df['cont9'] - df['cont1']) / (df['cont9'] + df['cont1'] + small_val)\n",
    "        df['cont8_div2_cont4'] = (df['cont8'] - df['cont4']) / (df['cont8'] + df['cont4'] + small_val)\n",
    "        df['cont14_div2_cont5'] = (df['cont14'] - df['cont5']) / (df['cont14'] + df['cont5'] + small_val)\n",
    "        df['cont9_div2_cont7'] = (df['cont9'] - df['cont7']) / (df['cont9'] + df['cont7'] + small_val)\n",
    "        df['cont8_div2_cont14'] = (df['cont8'] - df['cont14']) / (df['cont8'] + df['cont14'] + small_val)\n",
    "        df['cont6_div2_cont12'] = (df['cont6'] - df['cont12']) / (df['cont6'] + df['cont12'] + small_val)\n",
    "        df['cont9_div2_cont8'] = (df['cont9'] - df['cont8']) / (df['cont9'] + df['cont8'] + small_val)\n",
    "        df['cont6_div2_cont7'] = (df['cont6'] - df['cont7']) / (df['cont6'] + df['cont7'] + small_val)\n",
    "        df['cont10_div2_cont9'] = (df['cont10'] - df['cont9']) / (df['cont10'] + df['cont9'] + small_val)\n",
    "        df['cont7_div2_cont12'] = (df['cont7'] - df['cont12']) / (df['cont7'] + df['cont12'] + small_val)\n",
    "        df['cont11_div2_cont12'] = (df['cont11'] - df['cont12']) / (df['cont11'] + df['cont12'] + small_val)\n",
    "        df['cont11_div2_cont7'] = (df['cont11'] - df['cont7']) / (df['cont11'] + df['cont7'] + small_val)\n",
    "        df['cont12_div2_cont10'] = (df['cont12'] - df['cont10']) / (df['cont12'] + df['cont10'] + small_val)\n",
    "        df['cont11_div2_cont10'] = (df['cont11'] - df['cont10']) / (df['cont11'] + df['cont10'] + small_val)\n",
    "        df['cont6_div2_cont10'] = (df['cont6'] - df['cont10']) / (df['cont6'] + df['cont10'] + small_val)\n",
    "        df['cont8_div2_cont13'] = (df['cont8'] - df['cont13']) / (df['cont8'] + df['cont13'] + small_val)\n",
    "        df['cont4_div2_cont8'] = (df['cont4'] - df['cont8']) / (df['cont4'] + df['cont8'] + small_val)\n",
    "        df['cont13_div2_cont10'] = (df['cont13'] - df['cont10']) / (df['cont13'] + df['cont10'] + small_val)\n",
    "        df['cont5_div2_cont4'] = (df['cont5'] - df['cont4']) / (df['cont5'] + df['cont4'] + small_val)\n",
    "        df['cont10_div2_cont7'] = (df['cont10'] - df['cont7']) / (df['cont10'] + df['cont7'] + small_val)\n",
    "        df['cont3_div2_cont9'] = (df['cont3'] - df['cont9']) / (df['cont3'] + df['cont9'] + small_val)\n",
    "        df['cont9_div2_cont11'] = (df['cont9'] - df['cont11']) / (df['cont9'] + df['cont11'] + small_val)\n",
    "        df['cont1_div2_cont9'] = (df['cont1'] - df['cont9']) / (df['cont1'] + df['cont9'] + small_val)\n",
    "        df['cont3_div2_cont11'] = (df['cont3'] - df['cont11']) / (df['cont3'] + df['cont11'] + small_val)\n",
    "        df['cont3_div2_cont5'] = (df['cont3'] - df['cont5']) / (df['cont3'] + df['cont5'] + small_val)\n",
    "        df['cont14_div2_cont8'] = (df['cont14'] - df['cont8']) / (df['cont14'] + df['cont8'] + small_val)\n",
    "        df['cont9_div2_cont10'] = (df['cont9'] - df['cont10']) / (df['cont9'] + df['cont10'] + small_val)\n",
    "        df['cont9_div2_cont10'] = (df['cont9'] - df['cont10']) / (df['cont9'] + df['cont10'] + small_val)\n",
    "        df['cont12_div2_cont11'] = (df['cont12'] - df['cont11']) / (df['cont12'] + df['cont11'] + small_val)\n",
    "    \n",
    "    return train, test\n",
    "\n",
    "# add extra features\n",
    "# df_train, df_test = add_extra_features(df_train, df_test)\n",
    "\n",
    "# drop sig_id from train and test sets\n",
    "df_train = df_train.drop(['id'], axis=1, errors='ignore')\n",
    "df_test = df_test.drop(['id'], axis=1, errors='ignore')"
   ]
  },
  {
   "cell_type": "code",
   "execution_count": 7,
   "metadata": {},
   "outputs": [
    {
     "name": "stdout",
     "output_type": "stream",
     "text": [
      "Wall time: 28 ms\n"
     ]
    }
   ],
   "source": [
    "%%time\n",
    "# subset features and target variable\n",
    "\n",
    "X = df_train[feature_list] \n",
    "X_test = df_test[feature_list] \n",
    "y = df_train['target']"
   ]
  },
  {
   "cell_type": "code",
   "execution_count": 8,
   "metadata": {},
   "outputs": [
    {
     "name": "stdout",
     "output_type": "stream",
     "text": [
      "Wall time: 1.39 s\n"
     ]
    }
   ],
   "source": [
    "%%time\n",
    "# do pre-processing\n",
    "from sklearn.preprocessing import StandardScaler\n",
    "scaler = StandardScaler()\n",
    "\n",
    "X = scaler.fit_transform(X)\n",
    "X_test = scaler.transform(X_test)\n",
    "\n",
    "# cast numpy arrays back to pandas dataframes\n",
    "X = pd.DataFrame(data=X, columns=feature_list)\n",
    "X_test = pd.DataFrame(data=X_test, columns=feature_list)\n",
    "X['target'] = y"
   ]
  },
  {
   "cell_type": "code",
   "execution_count": 9,
   "metadata": {
    "execution": {
     "iopub.execute_input": "2021-01-30T03:45:16.239973Z",
     "iopub.status.busy": "2021-01-30T03:45:16.239259Z",
     "iopub.status.idle": "2021-01-30T03:48:08.732579Z",
     "shell.execute_reply": "2021-01-30T03:48:08.733070Z"
    },
    "papermill": {
     "duration": 172.521921,
     "end_time": "2021-01-30T03:48:08.733255",
     "exception": false,
     "start_time": "2021-01-30T03:45:16.211334",
     "status": "completed"
    },
    "tags": []
   },
   "outputs": [
    {
     "name": "stdout",
     "output_type": "stream",
     "text": [
      "Parse progress: |█████████████████████████████████████████████████████████| 100%\n",
      "Parse progress: |█████████████████████████████████████████████████████████| 100%\n",
      "Wall time: 17.5 s\n"
     ]
    }
   ],
   "source": [
    "%%time\n",
    "train = h2o.H2OFrame(X)\n",
    "test = h2o.H2OFrame(X_test)"
   ]
  },
  {
   "cell_type": "code",
   "execution_count": 10,
   "metadata": {
    "execution": {
     "iopub.execute_input": "2021-01-30T03:48:08.858094Z",
     "iopub.status.busy": "2021-01-30T03:48:08.857184Z",
     "iopub.status.idle": "2021-01-30T03:48:08.860463Z",
     "shell.execute_reply": "2021-01-30T03:48:08.860995Z"
    },
    "papermill": {
     "duration": 0.068943,
     "end_time": "2021-01-30T03:48:08.861181",
     "exception": false,
     "start_time": "2021-01-30T03:48:08.792238",
     "status": "completed"
    },
    "tags": []
   },
   "outputs": [],
   "source": [
    "x = test.columns\n",
    "y = 'target'"
   ]
  },
  {
   "cell_type": "code",
   "execution_count": 11,
   "metadata": {
    "execution": {
     "iopub.execute_input": "2021-01-30T03:48:08.988717Z",
     "iopub.status.busy": "2021-01-30T03:48:08.987692Z",
     "iopub.status.idle": "2021-01-30T07:30:50.888413Z",
     "shell.execute_reply": "2021-01-30T07:30:50.887522Z"
    },
    "papermill": {
     "duration": 13361.967417,
     "end_time": "2021-01-30T07:30:50.888672",
     "exception": false,
     "start_time": "2021-01-30T03:48:08.921255",
     "status": "completed"
    },
    "tags": []
   },
   "outputs": [
    {
     "name": "stdout",
     "output_type": "stream",
     "text": [
      "AutoML progress: |\n",
      "22:59:08.838: AutoML: XGBoost is not available; skipping it.\n",
      "\n",
      "████████████████████████████████████████████████████████| 100%\n"
     ]
    }
   ],
   "source": [
    "# Run AutoML for 200 base models, up to 4 h in terms of duration (limited to 1 hour max runtime by default)\n",
    "aml = H2OAutoML(max_models=200, seed=47, max_runtime_secs=14400)\n",
    "aml.train(x=x, y=y, training_frame=train)"
   ]
  },
  {
   "cell_type": "code",
   "execution_count": 12,
   "metadata": {
    "execution": {
     "iopub.execute_input": "2021-01-30T07:30:51.056756Z",
     "iopub.status.busy": "2021-01-30T07:30:51.055957Z",
     "iopub.status.idle": "2021-01-30T07:30:51.112531Z",
     "shell.execute_reply": "2021-01-30T07:30:51.113003Z"
    },
    "papermill": {
     "duration": 0.142301,
     "end_time": "2021-01-30T07:30:51.113180",
     "exception": false,
     "start_time": "2021-01-30T07:30:50.970879",
     "status": "completed"
    },
    "tags": []
   },
   "outputs": [
    {
     "data": {
      "text/html": [
       "<table>\n",
       "<thead>\n",
       "<tr><th>model_id                                            </th><th style=\"text-align: right;\">  mean_residual_deviance</th><th style=\"text-align: right;\">    rmse</th><th style=\"text-align: right;\">     mse</th><th style=\"text-align: right;\">     mae</th><th style=\"text-align: right;\">    rmsle</th></tr>\n",
       "</thead>\n",
       "<tbody>\n",
       "<tr><td>GBM_grid__1_AutoML_20210130_225908_model_47         </td><td style=\"text-align: right;\">                0.490195</td><td style=\"text-align: right;\">0.700139</td><td style=\"text-align: right;\">0.490195</td><td style=\"text-align: right;\">0.585338</td><td style=\"text-align: right;\">0.0796191</td></tr>\n",
       "<tr><td>GBM_5_AutoML_20210130_225908                        </td><td style=\"text-align: right;\">                0.490394</td><td style=\"text-align: right;\">0.700281</td><td style=\"text-align: right;\">0.490394</td><td style=\"text-align: right;\">0.585271</td><td style=\"text-align: right;\">0.0796292</td></tr>\n",
       "<tr><td>GBM_grid__1_AutoML_20210130_225908_model_53         </td><td style=\"text-align: right;\">                0.490663</td><td style=\"text-align: right;\">0.700473</td><td style=\"text-align: right;\">0.490663</td><td style=\"text-align: right;\">0.587303</td><td style=\"text-align: right;\">0.0796588</td></tr>\n",
       "<tr><td>GBM_grid__1_AutoML_20210130_225908_model_6          </td><td style=\"text-align: right;\">                0.490711</td><td style=\"text-align: right;\">0.700508</td><td style=\"text-align: right;\">0.490711</td><td style=\"text-align: right;\">0.586037</td><td style=\"text-align: right;\">0.0796557</td></tr>\n",
       "<tr><td>GBM_grid__1_AutoML_20210130_225908_model_52         </td><td style=\"text-align: right;\">                0.490839</td><td style=\"text-align: right;\">0.700599</td><td style=\"text-align: right;\">0.490839</td><td style=\"text-align: right;\">0.58704 </td><td style=\"text-align: right;\">0.079671 </td></tr>\n",
       "<tr><td>GBM_3_AutoML_20210130_225908                        </td><td style=\"text-align: right;\">                0.491189</td><td style=\"text-align: right;\">0.700849</td><td style=\"text-align: right;\">0.491189</td><td style=\"text-align: right;\">0.587391</td><td style=\"text-align: right;\">0.0796991</td></tr>\n",
       "<tr><td>GBM_grid__1_AutoML_20210130_225908_model_54         </td><td style=\"text-align: right;\">                0.491208</td><td style=\"text-align: right;\">0.700863</td><td style=\"text-align: right;\">0.491208</td><td style=\"text-align: right;\">0.585981</td><td style=\"text-align: right;\">0.0796959</td></tr>\n",
       "<tr><td>GBM_4_AutoML_20210130_225908                        </td><td style=\"text-align: right;\">                0.491323</td><td style=\"text-align: right;\">0.700945</td><td style=\"text-align: right;\">0.491323</td><td style=\"text-align: right;\">0.586666</td><td style=\"text-align: right;\">0.0797052</td></tr>\n",
       "<tr><td>GBM_2_AutoML_20210130_225908                        </td><td style=\"text-align: right;\">                0.491695</td><td style=\"text-align: right;\">0.701209</td><td style=\"text-align: right;\">0.491695</td><td style=\"text-align: right;\">0.588076</td><td style=\"text-align: right;\">0.0797403</td></tr>\n",
       "<tr><td>GBM_grid__1_AutoML_20210130_225908_model_16         </td><td style=\"text-align: right;\">                0.492057</td><td style=\"text-align: right;\">0.701468</td><td style=\"text-align: right;\">0.492057</td><td style=\"text-align: right;\">0.588055</td><td style=\"text-align: right;\">0.0797648</td></tr>\n",
       "<tr><td>GBM_grid__1_AutoML_20210130_225908_model_39         </td><td style=\"text-align: right;\">                0.492219</td><td style=\"text-align: right;\">0.701583</td><td style=\"text-align: right;\">0.492219</td><td style=\"text-align: right;\">0.588728</td><td style=\"text-align: right;\">0.0797838</td></tr>\n",
       "<tr><td>GBM_grid__1_AutoML_20210130_225908_model_20         </td><td style=\"text-align: right;\">                0.492566</td><td style=\"text-align: right;\">0.70183 </td><td style=\"text-align: right;\">0.492566</td><td style=\"text-align: right;\">0.588793</td><td style=\"text-align: right;\">0.0798117</td></tr>\n",
       "<tr><td>GBM_grid__1_AutoML_20210130_225908_model_46         </td><td style=\"text-align: right;\">                0.492887</td><td style=\"text-align: right;\">0.702059</td><td style=\"text-align: right;\">0.492887</td><td style=\"text-align: right;\">0.589076</td><td style=\"text-align: right;\">0.0798353</td></tr>\n",
       "<tr><td>GBM_1_AutoML_20210130_225908                        </td><td style=\"text-align: right;\">                0.493325</td><td style=\"text-align: right;\">0.702371</td><td style=\"text-align: right;\">0.493325</td><td style=\"text-align: right;\">0.589441</td><td style=\"text-align: right;\">0.0798721</td></tr>\n",
       "<tr><td>GBM_grid__1_AutoML_20210130_225908_model_4          </td><td style=\"text-align: right;\">                0.493498</td><td style=\"text-align: right;\">0.702494</td><td style=\"text-align: right;\">0.493498</td><td style=\"text-align: right;\">0.589943</td><td style=\"text-align: right;\">0.0798873</td></tr>\n",
       "<tr><td>GBM_grid__1_AutoML_20210130_225908_model_48         </td><td style=\"text-align: right;\">                0.493808</td><td style=\"text-align: right;\">0.702715</td><td style=\"text-align: right;\">0.493808</td><td style=\"text-align: right;\">0.589957</td><td style=\"text-align: right;\">0.0799118</td></tr>\n",
       "<tr><td>GBM_grid__1_AutoML_20210130_225908_model_42         </td><td style=\"text-align: right;\">                0.494284</td><td style=\"text-align: right;\">0.703054</td><td style=\"text-align: right;\">0.494284</td><td style=\"text-align: right;\">0.590321</td><td style=\"text-align: right;\">0.0799481</td></tr>\n",
       "<tr><td>GBM_grid__1_AutoML_20210130_225908_model_49         </td><td style=\"text-align: right;\">                0.494853</td><td style=\"text-align: right;\">0.703458</td><td style=\"text-align: right;\">0.494853</td><td style=\"text-align: right;\">0.58794 </td><td style=\"text-align: right;\">0.0799831</td></tr>\n",
       "<tr><td>GBM_grid__1_AutoML_20210130_225908_model_50         </td><td style=\"text-align: right;\">                0.494925</td><td style=\"text-align: right;\">0.703509</td><td style=\"text-align: right;\">0.494925</td><td style=\"text-align: right;\">0.590865</td><td style=\"text-align: right;\">0.0800039</td></tr>\n",
       "<tr><td>GBM_grid__1_AutoML_20210130_225908_model_10         </td><td style=\"text-align: right;\">                0.49501 </td><td style=\"text-align: right;\">0.70357 </td><td style=\"text-align: right;\">0.49501 </td><td style=\"text-align: right;\">0.59046 </td><td style=\"text-align: right;\">0.0800053</td></tr>\n",
       "<tr><td>GBM_grid__1_AutoML_20210130_225908_model_13         </td><td style=\"text-align: right;\">                0.495226</td><td style=\"text-align: right;\">0.703723</td><td style=\"text-align: right;\">0.495226</td><td style=\"text-align: right;\">0.590448</td><td style=\"text-align: right;\">0.0800255</td></tr>\n",
       "<tr><td>GBM_grid__1_AutoML_20210130_225908_model_24         </td><td style=\"text-align: right;\">                0.495735</td><td style=\"text-align: right;\">0.704084</td><td style=\"text-align: right;\">0.495735</td><td style=\"text-align: right;\">0.591831</td><td style=\"text-align: right;\">0.0800736</td></tr>\n",
       "<tr><td>GBM_grid__1_AutoML_20210130_225908_model_30         </td><td style=\"text-align: right;\">                0.495988</td><td style=\"text-align: right;\">0.704264</td><td style=\"text-align: right;\">0.495988</td><td style=\"text-align: right;\">0.591657</td><td style=\"text-align: right;\">0.0800906</td></tr>\n",
       "<tr><td>GBM_grid__1_AutoML_20210130_225908_model_44         </td><td style=\"text-align: right;\">                0.496015</td><td style=\"text-align: right;\">0.704283</td><td style=\"text-align: right;\">0.496015</td><td style=\"text-align: right;\">0.588757</td><td style=\"text-align: right;\">0.0800776</td></tr>\n",
       "<tr><td>GBM_grid__1_AutoML_20210130_225908_model_8          </td><td style=\"text-align: right;\">                0.496081</td><td style=\"text-align: right;\">0.70433 </td><td style=\"text-align: right;\">0.496081</td><td style=\"text-align: right;\">0.592212</td><td style=\"text-align: right;\">0.0800998</td></tr>\n",
       "<tr><td>GBM_grid__1_AutoML_20210130_225908_model_3          </td><td style=\"text-align: right;\">                0.49632 </td><td style=\"text-align: right;\">0.7045  </td><td style=\"text-align: right;\">0.49632 </td><td style=\"text-align: right;\">0.592525</td><td style=\"text-align: right;\">0.0801176</td></tr>\n",
       "<tr><td>GBM_grid__1_AutoML_20210130_225908_model_18         </td><td style=\"text-align: right;\">                0.496333</td><td style=\"text-align: right;\">0.704509</td><td style=\"text-align: right;\">0.496333</td><td style=\"text-align: right;\">0.591956</td><td style=\"text-align: right;\">0.0801194</td></tr>\n",
       "<tr><td>GBM_grid__1_AutoML_20210130_225908_model_11         </td><td style=\"text-align: right;\">                0.496366</td><td style=\"text-align: right;\">0.704532</td><td style=\"text-align: right;\">0.496366</td><td style=\"text-align: right;\">0.59134 </td><td style=\"text-align: right;\">0.0801201</td></tr>\n",
       "<tr><td>GBM_grid__1_AutoML_20210130_225908_model_2          </td><td style=\"text-align: right;\">                0.496519</td><td style=\"text-align: right;\">0.704641</td><td style=\"text-align: right;\">0.496519</td><td style=\"text-align: right;\">0.591916</td><td style=\"text-align: right;\">0.0801325</td></tr>\n",
       "<tr><td>GBM_grid__1_AutoML_20210130_225908_model_33         </td><td style=\"text-align: right;\">                0.496669</td><td style=\"text-align: right;\">0.704747</td><td style=\"text-align: right;\">0.496669</td><td style=\"text-align: right;\">0.589052</td><td style=\"text-align: right;\">0.0801254</td></tr>\n",
       "<tr><td>GBM_grid__1_AutoML_20210130_225908_model_22         </td><td style=\"text-align: right;\">                0.496678</td><td style=\"text-align: right;\">0.704754</td><td style=\"text-align: right;\">0.496678</td><td style=\"text-align: right;\">0.59255 </td><td style=\"text-align: right;\">0.0801476</td></tr>\n",
       "<tr><td>GBM_grid__1_AutoML_20210130_225908_model_15         </td><td style=\"text-align: right;\">                0.496897</td><td style=\"text-align: right;\">0.704909</td><td style=\"text-align: right;\">0.496897</td><td style=\"text-align: right;\">0.590872</td><td style=\"text-align: right;\">0.0801614</td></tr>\n",
       "<tr><td>GBM_grid__1_AutoML_20210130_225908_model_19         </td><td style=\"text-align: right;\">                0.497255</td><td style=\"text-align: right;\">0.705163</td><td style=\"text-align: right;\">0.497255</td><td style=\"text-align: right;\">0.591024</td><td style=\"text-align: right;\">0.0801855</td></tr>\n",
       "<tr><td>GBM_grid__1_AutoML_20210130_225908_model_28         </td><td style=\"text-align: right;\">                0.497456</td><td style=\"text-align: right;\">0.705305</td><td style=\"text-align: right;\">0.497456</td><td style=\"text-align: right;\">0.59235 </td><td style=\"text-align: right;\">0.0802042</td></tr>\n",
       "<tr><td>GBM_grid__1_AutoML_20210130_225908_model_27         </td><td style=\"text-align: right;\">                0.49792 </td><td style=\"text-align: right;\">0.705634</td><td style=\"text-align: right;\">0.49792 </td><td style=\"text-align: right;\">0.588577</td><td style=\"text-align: right;\">0.080225 </td></tr>\n",
       "<tr><td>GBM_grid__1_AutoML_20210130_225908_model_35         </td><td style=\"text-align: right;\">                0.497947</td><td style=\"text-align: right;\">0.705653</td><td style=\"text-align: right;\">0.497947</td><td style=\"text-align: right;\">0.593465</td><td style=\"text-align: right;\">0.0802509</td></tr>\n",
       "<tr><td>GBM_grid__1_AutoML_20210130_225908_model_17         </td><td style=\"text-align: right;\">                0.497986</td><td style=\"text-align: right;\">0.705681</td><td style=\"text-align: right;\">0.497986</td><td style=\"text-align: right;\">0.591175</td><td style=\"text-align: right;\">0.0802394</td></tr>\n",
       "<tr><td>GBM_grid__1_AutoML_20210130_225908_model_25         </td><td style=\"text-align: right;\">                0.498096</td><td style=\"text-align: right;\">0.705759</td><td style=\"text-align: right;\">0.498096</td><td style=\"text-align: right;\">0.593814</td><td style=\"text-align: right;\">0.0802579</td></tr>\n",
       "<tr><td>GBM_grid__1_AutoML_20210130_225908_model_45         </td><td style=\"text-align: right;\">                0.498148</td><td style=\"text-align: right;\">0.705796</td><td style=\"text-align: right;\">0.498148</td><td style=\"text-align: right;\">0.592182</td><td style=\"text-align: right;\">0.0802625</td></tr>\n",
       "<tr><td>GBM_grid__1_AutoML_20210130_225908_model_26         </td><td style=\"text-align: right;\">                0.498223</td><td style=\"text-align: right;\">0.705849</td><td style=\"text-align: right;\">0.498223</td><td style=\"text-align: right;\">0.588929</td><td style=\"text-align: right;\">0.0802505</td></tr>\n",
       "<tr><td>GBM_grid__1_AutoML_20210130_225908_model_1          </td><td style=\"text-align: right;\">                0.498233</td><td style=\"text-align: right;\">0.705856</td><td style=\"text-align: right;\">0.498233</td><td style=\"text-align: right;\">0.591217</td><td style=\"text-align: right;\">0.0802626</td></tr>\n",
       "<tr><td>GBM_grid__1_AutoML_20210130_225908_model_38         </td><td style=\"text-align: right;\">                0.498852</td><td style=\"text-align: right;\">0.706295</td><td style=\"text-align: right;\">0.498852</td><td style=\"text-align: right;\">0.59398 </td><td style=\"text-align: right;\">0.0803227</td></tr>\n",
       "<tr><td>XRT_1_AutoML_20210130_225908                        </td><td style=\"text-align: right;\">                0.499202</td><td style=\"text-align: right;\">0.706542</td><td style=\"text-align: right;\">0.499202</td><td style=\"text-align: right;\">0.592332</td><td style=\"text-align: right;\">0.0803378</td></tr>\n",
       "<tr><td>GBM_grid__1_AutoML_20210130_225908_model_9          </td><td style=\"text-align: right;\">                0.499267</td><td style=\"text-align: right;\">0.706588</td><td style=\"text-align: right;\">0.499267</td><td style=\"text-align: right;\">0.594355</td><td style=\"text-align: right;\">0.0803559</td></tr>\n",
       "<tr><td>DRF_1_AutoML_20210130_225908                        </td><td style=\"text-align: right;\">                0.499269</td><td style=\"text-align: right;\">0.706589</td><td style=\"text-align: right;\">0.499269</td><td style=\"text-align: right;\">0.592262</td><td style=\"text-align: right;\">0.08034  </td></tr>\n",
       "<tr><td>GBM_grid__1_AutoML_20210130_225908_model_29         </td><td style=\"text-align: right;\">                0.499503</td><td style=\"text-align: right;\">0.706755</td><td style=\"text-align: right;\">0.499503</td><td style=\"text-align: right;\">0.594642</td><td style=\"text-align: right;\">0.0803747</td></tr>\n",
       "<tr><td>GBM_grid__1_AutoML_20210130_225908_model_23         </td><td style=\"text-align: right;\">                0.499609</td><td style=\"text-align: right;\">0.70683 </td><td style=\"text-align: right;\">0.499609</td><td style=\"text-align: right;\">0.594391</td><td style=\"text-align: right;\">0.0803832</td></tr>\n",
       "<tr><td>GBM_grid__1_AutoML_20210130_225908_model_37         </td><td style=\"text-align: right;\">                0.49974 </td><td style=\"text-align: right;\">0.706923</td><td style=\"text-align: right;\">0.49974 </td><td style=\"text-align: right;\">0.592473</td><td style=\"text-align: right;\">0.0803834</td></tr>\n",
       "<tr><td>GBM_grid__1_AutoML_20210130_225908_model_40         </td><td style=\"text-align: right;\">                0.500436</td><td style=\"text-align: right;\">0.707415</td><td style=\"text-align: right;\">0.500436</td><td style=\"text-align: right;\">0.593158</td><td style=\"text-align: right;\">0.0804357</td></tr>\n",
       "<tr><td>GBM_grid__1_AutoML_20210130_225908_model_21         </td><td style=\"text-align: right;\">                0.500729</td><td style=\"text-align: right;\">0.707622</td><td style=\"text-align: right;\">0.500729</td><td style=\"text-align: right;\">0.595181</td><td style=\"text-align: right;\">0.0804709</td></tr>\n",
       "<tr><td>GBM_grid__1_AutoML_20210130_225908_model_41         </td><td style=\"text-align: right;\">                0.501385</td><td style=\"text-align: right;\">0.708085</td><td style=\"text-align: right;\">0.501385</td><td style=\"text-align: right;\">0.595815</td><td style=\"text-align: right;\">0.0805243</td></tr>\n",
       "<tr><td>GBM_grid__1_AutoML_20210130_225908_model_7          </td><td style=\"text-align: right;\">                0.501928</td><td style=\"text-align: right;\">0.708469</td><td style=\"text-align: right;\">0.501928</td><td style=\"text-align: right;\">0.593204</td><td style=\"text-align: right;\">0.0805495</td></tr>\n",
       "<tr><td>GBM_grid__1_AutoML_20210130_225908_model_14         </td><td style=\"text-align: right;\">                0.502338</td><td style=\"text-align: right;\">0.708758</td><td style=\"text-align: right;\">0.502338</td><td style=\"text-align: right;\">0.59218 </td><td style=\"text-align: right;\">0.0805811</td></tr>\n",
       "<tr><td>GBM_grid__1_AutoML_20210130_225908_model_12         </td><td style=\"text-align: right;\">                0.503134</td><td style=\"text-align: right;\">0.709319</td><td style=\"text-align: right;\">0.503134</td><td style=\"text-align: right;\">0.596969</td><td style=\"text-align: right;\">0.0806564</td></tr>\n",
       "<tr><td>GBM_grid__1_AutoML_20210130_225908_model_5          </td><td style=\"text-align: right;\">                0.503948</td><td style=\"text-align: right;\">0.709893</td><td style=\"text-align: right;\">0.503948</td><td style=\"text-align: right;\">0.597617</td><td style=\"text-align: right;\">0.0807228</td></tr>\n",
       "<tr><td>GBM_grid__1_AutoML_20210130_225908_model_32         </td><td style=\"text-align: right;\">                0.504138</td><td style=\"text-align: right;\">0.710027</td><td style=\"text-align: right;\">0.504138</td><td style=\"text-align: right;\">0.594097</td><td style=\"text-align: right;\">0.0807157</td></tr>\n",
       "<tr><td>GBM_grid__1_AutoML_20210130_225908_model_34         </td><td style=\"text-align: right;\">                0.504412</td><td style=\"text-align: right;\">0.710219</td><td style=\"text-align: right;\">0.504412</td><td style=\"text-align: right;\">0.597894</td><td style=\"text-align: right;\">0.0807585</td></tr>\n",
       "<tr><td>GBM_grid__1_AutoML_20210130_225908_model_43         </td><td style=\"text-align: right;\">                0.504412</td><td style=\"text-align: right;\">0.710219</td><td style=\"text-align: right;\">0.504412</td><td style=\"text-align: right;\">0.597938</td><td style=\"text-align: right;\">0.0807617</td></tr>\n",
       "<tr><td>GBM_grid__1_AutoML_20210130_225908_model_36         </td><td style=\"text-align: right;\">                0.505419</td><td style=\"text-align: right;\">0.710928</td><td style=\"text-align: right;\">0.505419</td><td style=\"text-align: right;\">0.594273</td><td style=\"text-align: right;\">0.0808222</td></tr>\n",
       "<tr><td>GBM_grid__1_AutoML_20210130_225908_model_31         </td><td style=\"text-align: right;\">                0.506349</td><td style=\"text-align: right;\">0.711582</td><td style=\"text-align: right;\">0.506349</td><td style=\"text-align: right;\">0.599283</td><td style=\"text-align: right;\">0.0809126</td></tr>\n",
       "<tr><td>GBM_grid__1_AutoML_20210130_225908_model_51         </td><td style=\"text-align: right;\">                0.507246</td><td style=\"text-align: right;\">0.712212</td><td style=\"text-align: right;\">0.507246</td><td style=\"text-align: right;\">0.599954</td><td style=\"text-align: right;\">0.0809833</td></tr>\n",
       "<tr><td>DeepLearning_grid__1_AutoML_20210130_225908_model_6 </td><td style=\"text-align: right;\">                0.507453</td><td style=\"text-align: right;\">0.712358</td><td style=\"text-align: right;\">0.507453</td><td style=\"text-align: right;\">0.595804</td><td style=\"text-align: right;\">0.08101  </td></tr>\n",
       "<tr><td>DeepLearning_grid__1_AutoML_20210130_225908_model_9 </td><td style=\"text-align: right;\">                0.507853</td><td style=\"text-align: right;\">0.712638</td><td style=\"text-align: right;\">0.507853</td><td style=\"text-align: right;\">0.597531</td><td style=\"text-align: right;\">0.0810393</td></tr>\n",
       "<tr><td>DeepLearning_grid__2_AutoML_20210130_225908_model_3 </td><td style=\"text-align: right;\">                0.510066</td><td style=\"text-align: right;\">0.714189</td><td style=\"text-align: right;\">0.510066</td><td style=\"text-align: right;\">0.59896 </td><td style=\"text-align: right;\">0.081221 </td></tr>\n",
       "<tr><td>DeepLearning_grid__1_AutoML_20210130_225908_model_7 </td><td style=\"text-align: right;\">                0.51035 </td><td style=\"text-align: right;\">0.714388</td><td style=\"text-align: right;\">0.51035 </td><td style=\"text-align: right;\">0.599639</td><td style=\"text-align: right;\">0.0812596</td></tr>\n",
       "<tr><td>DeepLearning_grid__1_AutoML_20210130_225908_model_2 </td><td style=\"text-align: right;\">                0.510372</td><td style=\"text-align: right;\">0.714404</td><td style=\"text-align: right;\">0.510372</td><td style=\"text-align: right;\">0.600148</td><td style=\"text-align: right;\">0.0812257</td></tr>\n",
       "<tr><td>StackedEnsemble_AllModels_AutoML_20210130_225908    </td><td style=\"text-align: right;\">                0.511202</td><td style=\"text-align: right;\">0.714984</td><td style=\"text-align: right;\">0.511202</td><td style=\"text-align: right;\">0.604627</td><td style=\"text-align: right;\">0.0812838</td></tr>\n",
       "<tr><td>DeepLearning_grid__1_AutoML_20210130_225908_model_5 </td><td style=\"text-align: right;\">                0.511561</td><td style=\"text-align: right;\">0.715235</td><td style=\"text-align: right;\">0.511561</td><td style=\"text-align: right;\">0.60069 </td><td style=\"text-align: right;\">0.081368 </td></tr>\n",
       "<tr><td>StackedEnsemble_BestOfFamily_AutoML_20210130_225908 </td><td style=\"text-align: right;\">                0.511743</td><td style=\"text-align: right;\">0.715362</td><td style=\"text-align: right;\">0.511743</td><td style=\"text-align: right;\">0.604959</td><td style=\"text-align: right;\">0.0813259</td></tr>\n",
       "<tr><td>DeepLearning_grid__1_AutoML_20210130_225908_model_10</td><td style=\"text-align: right;\">                0.511912</td><td style=\"text-align: right;\">0.71548 </td><td style=\"text-align: right;\">0.511912</td><td style=\"text-align: right;\">0.599892</td><td style=\"text-align: right;\">0.0813682</td></tr>\n",
       "<tr><td>DeepLearning_grid__2_AutoML_20210130_225908_model_2 </td><td style=\"text-align: right;\">                0.513378</td><td style=\"text-align: right;\">0.716504</td><td style=\"text-align: right;\">0.513378</td><td style=\"text-align: right;\">0.602256</td><td style=\"text-align: right;\">0.0815081</td></tr>\n",
       "<tr><td>DeepLearning_1_AutoML_20210130_225908               </td><td style=\"text-align: right;\">                0.513615</td><td style=\"text-align: right;\">0.716669</td><td style=\"text-align: right;\">0.513615</td><td style=\"text-align: right;\">0.602394</td><td style=\"text-align: right;\">0.0814377</td></tr>\n",
       "<tr><td>DeepLearning_grid__1_AutoML_20210130_225908_model_4 </td><td style=\"text-align: right;\">                0.513779</td><td style=\"text-align: right;\">0.716784</td><td style=\"text-align: right;\">0.513779</td><td style=\"text-align: right;\">0.602315</td><td style=\"text-align: right;\">0.0815022</td></tr>\n",
       "<tr><td>DeepLearning_grid__1_AutoML_20210130_225908_model_3 </td><td style=\"text-align: right;\">                0.515521</td><td style=\"text-align: right;\">0.717998</td><td style=\"text-align: right;\">0.515521</td><td style=\"text-align: right;\">0.604231</td><td style=\"text-align: right;\">0.0816033</td></tr>\n",
       "<tr><td>DeepLearning_grid__2_AutoML_20210130_225908_model_5 </td><td style=\"text-align: right;\">                0.516153</td><td style=\"text-align: right;\">0.718438</td><td style=\"text-align: right;\">0.516153</td><td style=\"text-align: right;\">0.603895</td><td style=\"text-align: right;\">0.0817304</td></tr>\n",
       "<tr><td>DeepLearning_grid__3_AutoML_20210130_225908_model_1 </td><td style=\"text-align: right;\">                0.519866</td><td style=\"text-align: right;\">0.721017</td><td style=\"text-align: right;\">0.519866</td><td style=\"text-align: right;\">0.607637</td><td style=\"text-align: right;\">0.0819463</td></tr>\n",
       "<tr><td>DeepLearning_grid__2_AutoML_20210130_225908_model_4 </td><td style=\"text-align: right;\">                0.520948</td><td style=\"text-align: right;\">0.721768</td><td style=\"text-align: right;\">0.520948</td><td style=\"text-align: right;\">0.609256</td><td style=\"text-align: right;\">0.0819965</td></tr>\n",
       "<tr><td>DeepLearning_grid__1_AutoML_20210130_225908_model_8 </td><td style=\"text-align: right;\">                0.521162</td><td style=\"text-align: right;\">0.721916</td><td style=\"text-align: right;\">0.521162</td><td style=\"text-align: right;\">0.608982</td><td style=\"text-align: right;\">0.0820077</td></tr>\n",
       "<tr><td>DeepLearning_grid__1_AutoML_20210130_225908_model_1 </td><td style=\"text-align: right;\">                0.522891</td><td style=\"text-align: right;\">0.723112</td><td style=\"text-align: right;\">0.522891</td><td style=\"text-align: right;\">0.609025</td><td style=\"text-align: right;\">0.0820981</td></tr>\n",
       "<tr><td>DeepLearning_grid__2_AutoML_20210130_225908_model_1 </td><td style=\"text-align: right;\">                0.523841</td><td style=\"text-align: right;\">0.723768</td><td style=\"text-align: right;\">0.523841</td><td style=\"text-align: right;\">0.611285</td><td style=\"text-align: right;\">0.08229  </td></tr>\n",
       "<tr><td>GLM_1_AutoML_20210130_225908                        </td><td style=\"text-align: right;\">                0.527426</td><td style=\"text-align: right;\">0.726241</td><td style=\"text-align: right;\">0.527426</td><td style=\"text-align: right;\">0.612557</td><td style=\"text-align: right;\">0.0825579</td></tr>\n",
       "</tbody>\n",
       "</table>"
      ]
     },
     "metadata": {},
     "output_type": "display_data"
    },
    {
     "data": {
      "text/plain": []
     },
     "execution_count": 12,
     "metadata": {},
     "output_type": "execute_result"
    }
   ],
   "source": [
    "# View the AutoML Leaderboard\n",
    "lb = aml.leaderboard\n",
    "lb.head(rows=lb.nrows)  # Print all rows instead of default (10 rows)"
   ]
  },
  {
   "cell_type": "code",
   "execution_count": 13,
   "metadata": {
    "execution": {
     "iopub.execute_input": "2021-01-30T07:30:51.274007Z",
     "iopub.status.busy": "2021-01-30T07:30:51.273225Z",
     "iopub.status.idle": "2021-01-30T07:30:51.451924Z",
     "shell.execute_reply": "2021-01-30T07:30:51.452444Z"
    },
    "papermill": {
     "duration": 0.26212,
     "end_time": "2021-01-30T07:30:51.452624",
     "exception": false,
     "start_time": "2021-01-30T07:30:51.190504",
     "status": "completed"
    },
    "tags": []
   },
   "outputs": [
    {
     "name": "stdout",
     "output_type": "stream",
     "text": [
      "Model Details\n",
      "=============\n",
      "H2OGradientBoostingEstimator :  Gradient Boosting Machine\n",
      "Model Key:  GBM_grid__1_AutoML_20210130_225908_model_47\n",
      "\n",
      "\n",
      "Model Summary: \n"
     ]
    },
    {
     "data": {
      "text/html": [
       "<div>\n",
       "<style scoped>\n",
       "    .dataframe tbody tr th:only-of-type {\n",
       "        vertical-align: middle;\n",
       "    }\n",
       "\n",
       "    .dataframe tbody tr th {\n",
       "        vertical-align: top;\n",
       "    }\n",
       "\n",
       "    .dataframe thead th {\n",
       "        text-align: right;\n",
       "    }\n",
       "</style>\n",
       "<table border=\"1\" class=\"dataframe\">\n",
       "  <thead>\n",
       "    <tr style=\"text-align: right;\">\n",
       "      <th></th>\n",
       "      <th></th>\n",
       "      <th>number_of_trees</th>\n",
       "      <th>number_of_internal_trees</th>\n",
       "      <th>model_size_in_bytes</th>\n",
       "      <th>min_depth</th>\n",
       "      <th>max_depth</th>\n",
       "      <th>mean_depth</th>\n",
       "      <th>min_leaves</th>\n",
       "      <th>max_leaves</th>\n",
       "      <th>mean_leaves</th>\n",
       "    </tr>\n",
       "  </thead>\n",
       "  <tbody>\n",
       "    <tr>\n",
       "      <th>0</th>\n",
       "      <td></td>\n",
       "      <td>70.0</td>\n",
       "      <td>70.0</td>\n",
       "      <td>876012.0</td>\n",
       "      <td>2.0</td>\n",
       "      <td>15.0</td>\n",
       "      <td>14.657143</td>\n",
       "      <td>3.0</td>\n",
       "      <td>1766.0</td>\n",
       "      <td>991.7714</td>\n",
       "    </tr>\n",
       "  </tbody>\n",
       "</table>\n",
       "</div>"
      ],
      "text/plain": [
       "     number_of_trees  number_of_internal_trees  model_size_in_bytes  \\\n",
       "0               70.0                      70.0             876012.0   \n",
       "\n",
       "   min_depth  max_depth  mean_depth  min_leaves  max_leaves  mean_leaves  \n",
       "0        2.0       15.0   14.657143         3.0      1766.0     991.7714  "
      ]
     },
     "metadata": {},
     "output_type": "display_data"
    },
    {
     "name": "stdout",
     "output_type": "stream",
     "text": [
      "\n",
      "\n",
      "ModelMetricsRegression: gbm\n",
      "** Reported on train data. **\n",
      "\n",
      "MSE: 0.4077463159495112\n",
      "RMSE: 0.6385501671360765\n",
      "MAE: 0.533918558661143\n",
      "RMSLE: 0.07272353821979304\n",
      "Mean Residual Deviance: 0.4077463159495112\n",
      "\n",
      "ModelMetricsRegression: gbm\n",
      "** Reported on cross-validation data. **\n",
      "\n",
      "MSE: 0.4901950676440658\n",
      "RMSE: 0.700139320167112\n",
      "MAE: 0.5853380621343189\n",
      "RMSLE: 0.07961911502862244\n",
      "Mean Residual Deviance: 0.4901950676440658\n",
      "\n",
      "Cross-Validation Metrics Summary: \n"
     ]
    },
    {
     "data": {
      "text/html": [
       "<div>\n",
       "<style scoped>\n",
       "    .dataframe tbody tr th:only-of-type {\n",
       "        vertical-align: middle;\n",
       "    }\n",
       "\n",
       "    .dataframe tbody tr th {\n",
       "        vertical-align: top;\n",
       "    }\n",
       "\n",
       "    .dataframe thead th {\n",
       "        text-align: right;\n",
       "    }\n",
       "</style>\n",
       "<table border=\"1\" class=\"dataframe\">\n",
       "  <thead>\n",
       "    <tr style=\"text-align: right;\">\n",
       "      <th></th>\n",
       "      <th></th>\n",
       "      <th>mean</th>\n",
       "      <th>sd</th>\n",
       "      <th>cv_1_valid</th>\n",
       "      <th>cv_2_valid</th>\n",
       "      <th>cv_3_valid</th>\n",
       "      <th>cv_4_valid</th>\n",
       "      <th>cv_5_valid</th>\n",
       "    </tr>\n",
       "  </thead>\n",
       "  <tbody>\n",
       "    <tr>\n",
       "      <th>0</th>\n",
       "      <td>mae</td>\n",
       "      <td>0.58533806</td>\n",
       "      <td>0.0021083916</td>\n",
       "      <td>0.58554184</td>\n",
       "      <td>0.58413607</td>\n",
       "      <td>0.58301705</td>\n",
       "      <td>0.5853547</td>\n",
       "      <td>0.58864075</td>\n",
       "    </tr>\n",
       "    <tr>\n",
       "      <th>1</th>\n",
       "      <td>mean_residual_deviance</td>\n",
       "      <td>0.49019507</td>\n",
       "      <td>0.0031656206</td>\n",
       "      <td>0.49050486</td>\n",
       "      <td>0.48769432</td>\n",
       "      <td>0.48742908</td>\n",
       "      <td>0.49004692</td>\n",
       "      <td>0.49530017</td>\n",
       "    </tr>\n",
       "    <tr>\n",
       "      <th>2</th>\n",
       "      <td>mse</td>\n",
       "      <td>0.49019507</td>\n",
       "      <td>0.0031656206</td>\n",
       "      <td>0.49050486</td>\n",
       "      <td>0.48769432</td>\n",
       "      <td>0.48742908</td>\n",
       "      <td>0.49004692</td>\n",
       "      <td>0.49530017</td>\n",
       "    </tr>\n",
       "    <tr>\n",
       "      <th>3</th>\n",
       "      <td>r2</td>\n",
       "      <td>0.087807015</td>\n",
       "      <td>0.0014856353</td>\n",
       "      <td>0.089745626</td>\n",
       "      <td>0.08701511</td>\n",
       "      <td>0.0876401</td>\n",
       "      <td>0.0859144</td>\n",
       "      <td>0.08871985</td>\n",
       "    </tr>\n",
       "    <tr>\n",
       "      <th>4</th>\n",
       "      <td>residual_deviance</td>\n",
       "      <td>0.49019507</td>\n",
       "      <td>0.0031656206</td>\n",
       "      <td>0.49050486</td>\n",
       "      <td>0.48769432</td>\n",
       "      <td>0.48742908</td>\n",
       "      <td>0.49004692</td>\n",
       "      <td>0.49530017</td>\n",
       "    </tr>\n",
       "    <tr>\n",
       "      <th>5</th>\n",
       "      <td>rmse</td>\n",
       "      <td>0.7001364</td>\n",
       "      <td>0.0022579627</td>\n",
       "      <td>0.70036054</td>\n",
       "      <td>0.69835114</td>\n",
       "      <td>0.6981612</td>\n",
       "      <td>0.7000335</td>\n",
       "      <td>0.70377564</td>\n",
       "    </tr>\n",
       "    <tr>\n",
       "      <th>6</th>\n",
       "      <td>rmsle</td>\n",
       "      <td>0.079618044</td>\n",
       "      <td>4.6118637E-4</td>\n",
       "      <td>0.079516165</td>\n",
       "      <td>0.07937904</td>\n",
       "      <td>0.07933526</td>\n",
       "      <td>0.07942551</td>\n",
       "      <td>0.08043427</td>\n",
       "    </tr>\n",
       "  </tbody>\n",
       "</table>\n",
       "</div>"
      ],
      "text/plain": [
       "                                  mean            sd   cv_1_valid  cv_2_valid  \\\n",
       "0                     mae   0.58533806  0.0021083916   0.58554184  0.58413607   \n",
       "1  mean_residual_deviance   0.49019507  0.0031656206   0.49050486  0.48769432   \n",
       "2                     mse   0.49019507  0.0031656206   0.49050486  0.48769432   \n",
       "3                      r2  0.087807015  0.0014856353  0.089745626  0.08701511   \n",
       "4       residual_deviance   0.49019507  0.0031656206   0.49050486  0.48769432   \n",
       "5                    rmse    0.7001364  0.0022579627   0.70036054  0.69835114   \n",
       "6                   rmsle  0.079618044  4.6118637E-4  0.079516165  0.07937904   \n",
       "\n",
       "   cv_3_valid  cv_4_valid  cv_5_valid  \n",
       "0  0.58301705   0.5853547  0.58864075  \n",
       "1  0.48742908  0.49004692  0.49530017  \n",
       "2  0.48742908  0.49004692  0.49530017  \n",
       "3   0.0876401   0.0859144  0.08871985  \n",
       "4  0.48742908  0.49004692  0.49530017  \n",
       "5   0.6981612   0.7000335  0.70377564  \n",
       "6  0.07933526  0.07942551  0.08043427  "
      ]
     },
     "metadata": {},
     "output_type": "display_data"
    },
    {
     "name": "stdout",
     "output_type": "stream",
     "text": [
      "\n",
      "Scoring History: \n"
     ]
    },
    {
     "data": {
      "text/html": [
       "<div>\n",
       "<style scoped>\n",
       "    .dataframe tbody tr th:only-of-type {\n",
       "        vertical-align: middle;\n",
       "    }\n",
       "\n",
       "    .dataframe tbody tr th {\n",
       "        vertical-align: top;\n",
       "    }\n",
       "\n",
       "    .dataframe thead th {\n",
       "        text-align: right;\n",
       "    }\n",
       "</style>\n",
       "<table border=\"1\" class=\"dataframe\">\n",
       "  <thead>\n",
       "    <tr style=\"text-align: right;\">\n",
       "      <th></th>\n",
       "      <th></th>\n",
       "      <th>timestamp</th>\n",
       "      <th>duration</th>\n",
       "      <th>number_of_trees</th>\n",
       "      <th>training_rmse</th>\n",
       "      <th>training_mae</th>\n",
       "      <th>training_deviance</th>\n",
       "    </tr>\n",
       "  </thead>\n",
       "  <tbody>\n",
       "    <tr>\n",
       "      <th>0</th>\n",
       "      <td></td>\n",
       "      <td>2021-01-30 23:40:10</td>\n",
       "      <td>26 min 49.042 sec</td>\n",
       "      <td>0.0</td>\n",
       "      <td>0.733070</td>\n",
       "      <td>0.619374</td>\n",
       "      <td>0.537391</td>\n",
       "    </tr>\n",
       "    <tr>\n",
       "      <th>1</th>\n",
       "      <td></td>\n",
       "      <td>2021-01-30 23:40:11</td>\n",
       "      <td>26 min 49.802 sec</td>\n",
       "      <td>5.0</td>\n",
       "      <td>0.710426</td>\n",
       "      <td>0.600381</td>\n",
       "      <td>0.504705</td>\n",
       "    </tr>\n",
       "    <tr>\n",
       "      <th>2</th>\n",
       "      <td></td>\n",
       "      <td>2021-01-30 23:40:12</td>\n",
       "      <td>26 min 50.522 sec</td>\n",
       "      <td>10.0</td>\n",
       "      <td>0.696009</td>\n",
       "      <td>0.587092</td>\n",
       "      <td>0.484428</td>\n",
       "    </tr>\n",
       "    <tr>\n",
       "      <th>3</th>\n",
       "      <td></td>\n",
       "      <td>2021-01-30 23:40:12</td>\n",
       "      <td>26 min 51.204 sec</td>\n",
       "      <td>15.0</td>\n",
       "      <td>0.685341</td>\n",
       "      <td>0.577021</td>\n",
       "      <td>0.469693</td>\n",
       "    </tr>\n",
       "    <tr>\n",
       "      <th>4</th>\n",
       "      <td></td>\n",
       "      <td>2021-01-30 23:40:13</td>\n",
       "      <td>26 min 51.868 sec</td>\n",
       "      <td>20.0</td>\n",
       "      <td>0.676672</td>\n",
       "      <td>0.568840</td>\n",
       "      <td>0.457885</td>\n",
       "    </tr>\n",
       "    <tr>\n",
       "      <th>5</th>\n",
       "      <td></td>\n",
       "      <td>2021-01-30 23:40:13</td>\n",
       "      <td>26 min 52.458 sec</td>\n",
       "      <td>25.0</td>\n",
       "      <td>0.671199</td>\n",
       "      <td>0.563591</td>\n",
       "      <td>0.450508</td>\n",
       "    </tr>\n",
       "    <tr>\n",
       "      <th>6</th>\n",
       "      <td></td>\n",
       "      <td>2021-01-30 23:40:14</td>\n",
       "      <td>26 min 53.080 sec</td>\n",
       "      <td>30.0</td>\n",
       "      <td>0.665637</td>\n",
       "      <td>0.558439</td>\n",
       "      <td>0.443072</td>\n",
       "    </tr>\n",
       "    <tr>\n",
       "      <th>7</th>\n",
       "      <td></td>\n",
       "      <td>2021-01-30 23:40:15</td>\n",
       "      <td>26 min 53.677 sec</td>\n",
       "      <td>35.0</td>\n",
       "      <td>0.660804</td>\n",
       "      <td>0.553951</td>\n",
       "      <td>0.436662</td>\n",
       "    </tr>\n",
       "    <tr>\n",
       "      <th>8</th>\n",
       "      <td></td>\n",
       "      <td>2021-01-30 23:40:15</td>\n",
       "      <td>26 min 54.354 sec</td>\n",
       "      <td>40.0</td>\n",
       "      <td>0.656183</td>\n",
       "      <td>0.549728</td>\n",
       "      <td>0.430576</td>\n",
       "    </tr>\n",
       "    <tr>\n",
       "      <th>9</th>\n",
       "      <td></td>\n",
       "      <td>2021-01-30 23:40:16</td>\n",
       "      <td>26 min 55.067 sec</td>\n",
       "      <td>45.0</td>\n",
       "      <td>0.653006</td>\n",
       "      <td>0.546853</td>\n",
       "      <td>0.426417</td>\n",
       "    </tr>\n",
       "    <tr>\n",
       "      <th>10</th>\n",
       "      <td></td>\n",
       "      <td>2021-01-30 23:40:17</td>\n",
       "      <td>26 min 55.818 sec</td>\n",
       "      <td>50.0</td>\n",
       "      <td>0.648889</td>\n",
       "      <td>0.543169</td>\n",
       "      <td>0.421057</td>\n",
       "    </tr>\n",
       "    <tr>\n",
       "      <th>11</th>\n",
       "      <td></td>\n",
       "      <td>2021-01-30 23:40:18</td>\n",
       "      <td>26 min 56.547 sec</td>\n",
       "      <td>55.0</td>\n",
       "      <td>0.645592</td>\n",
       "      <td>0.540178</td>\n",
       "      <td>0.416789</td>\n",
       "    </tr>\n",
       "    <tr>\n",
       "      <th>12</th>\n",
       "      <td></td>\n",
       "      <td>2021-01-30 23:40:18</td>\n",
       "      <td>26 min 57.305 sec</td>\n",
       "      <td>60.0</td>\n",
       "      <td>0.642569</td>\n",
       "      <td>0.537488</td>\n",
       "      <td>0.412894</td>\n",
       "    </tr>\n",
       "    <tr>\n",
       "      <th>13</th>\n",
       "      <td></td>\n",
       "      <td>2021-01-30 23:40:19</td>\n",
       "      <td>26 min 57.998 sec</td>\n",
       "      <td>65.0</td>\n",
       "      <td>0.639985</td>\n",
       "      <td>0.535216</td>\n",
       "      <td>0.409580</td>\n",
       "    </tr>\n",
       "    <tr>\n",
       "      <th>14</th>\n",
       "      <td></td>\n",
       "      <td>2021-01-30 23:40:19</td>\n",
       "      <td>26 min 58.476 sec</td>\n",
       "      <td>70.0</td>\n",
       "      <td>0.638550</td>\n",
       "      <td>0.533919</td>\n",
       "      <td>0.407746</td>\n",
       "    </tr>\n",
       "  </tbody>\n",
       "</table>\n",
       "</div>"
      ],
      "text/plain": [
       "                timestamp           duration  number_of_trees  training_rmse  \\\n",
       "0     2021-01-30 23:40:10  26 min 49.042 sec              0.0       0.733070   \n",
       "1     2021-01-30 23:40:11  26 min 49.802 sec              5.0       0.710426   \n",
       "2     2021-01-30 23:40:12  26 min 50.522 sec             10.0       0.696009   \n",
       "3     2021-01-30 23:40:12  26 min 51.204 sec             15.0       0.685341   \n",
       "4     2021-01-30 23:40:13  26 min 51.868 sec             20.0       0.676672   \n",
       "5     2021-01-30 23:40:13  26 min 52.458 sec             25.0       0.671199   \n",
       "6     2021-01-30 23:40:14  26 min 53.080 sec             30.0       0.665637   \n",
       "7     2021-01-30 23:40:15  26 min 53.677 sec             35.0       0.660804   \n",
       "8     2021-01-30 23:40:15  26 min 54.354 sec             40.0       0.656183   \n",
       "9     2021-01-30 23:40:16  26 min 55.067 sec             45.0       0.653006   \n",
       "10    2021-01-30 23:40:17  26 min 55.818 sec             50.0       0.648889   \n",
       "11    2021-01-30 23:40:18  26 min 56.547 sec             55.0       0.645592   \n",
       "12    2021-01-30 23:40:18  26 min 57.305 sec             60.0       0.642569   \n",
       "13    2021-01-30 23:40:19  26 min 57.998 sec             65.0       0.639985   \n",
       "14    2021-01-30 23:40:19  26 min 58.476 sec             70.0       0.638550   \n",
       "\n",
       "    training_mae  training_deviance  \n",
       "0       0.619374           0.537391  \n",
       "1       0.600381           0.504705  \n",
       "2       0.587092           0.484428  \n",
       "3       0.577021           0.469693  \n",
       "4       0.568840           0.457885  \n",
       "5       0.563591           0.450508  \n",
       "6       0.558439           0.443072  \n",
       "7       0.553951           0.436662  \n",
       "8       0.549728           0.430576  \n",
       "9       0.546853           0.426417  \n",
       "10      0.543169           0.421057  \n",
       "11      0.540178           0.416789  \n",
       "12      0.537488           0.412894  \n",
       "13      0.535216           0.409580  \n",
       "14      0.533919           0.407746  "
      ]
     },
     "metadata": {},
     "output_type": "display_data"
    },
    {
     "name": "stdout",
     "output_type": "stream",
     "text": [
      "\n",
      "Variable Importances: \n"
     ]
    },
    {
     "data": {
      "text/html": [
       "<div>\n",
       "<style scoped>\n",
       "    .dataframe tbody tr th:only-of-type {\n",
       "        vertical-align: middle;\n",
       "    }\n",
       "\n",
       "    .dataframe tbody tr th {\n",
       "        vertical-align: top;\n",
       "    }\n",
       "\n",
       "    .dataframe thead th {\n",
       "        text-align: right;\n",
       "    }\n",
       "</style>\n",
       "<table border=\"1\" class=\"dataframe\">\n",
       "  <thead>\n",
       "    <tr style=\"text-align: right;\">\n",
       "      <th></th>\n",
       "      <th>variable</th>\n",
       "      <th>relative_importance</th>\n",
       "      <th>scaled_importance</th>\n",
       "      <th>percentage</th>\n",
       "    </tr>\n",
       "  </thead>\n",
       "  <tbody>\n",
       "    <tr>\n",
       "      <th>0</th>\n",
       "      <td>cont4</td>\n",
       "      <td>19558.316406</td>\n",
       "      <td>1.000000</td>\n",
       "      <td>0.095545</td>\n",
       "    </tr>\n",
       "    <tr>\n",
       "      <th>1</th>\n",
       "      <td>cont3</td>\n",
       "      <td>17909.208984</td>\n",
       "      <td>0.915683</td>\n",
       "      <td>0.087489</td>\n",
       "    </tr>\n",
       "    <tr>\n",
       "      <th>2</th>\n",
       "      <td>cont13</td>\n",
       "      <td>16731.908203</td>\n",
       "      <td>0.855488</td>\n",
       "      <td>0.081738</td>\n",
       "    </tr>\n",
       "    <tr>\n",
       "      <th>3</th>\n",
       "      <td>cont2</td>\n",
       "      <td>16466.173828</td>\n",
       "      <td>0.841901</td>\n",
       "      <td>0.080440</td>\n",
       "    </tr>\n",
       "    <tr>\n",
       "      <th>4</th>\n",
       "      <td>cont14</td>\n",
       "      <td>15127.467773</td>\n",
       "      <td>0.773454</td>\n",
       "      <td>0.073900</td>\n",
       "    </tr>\n",
       "    <tr>\n",
       "      <th>5</th>\n",
       "      <td>cont1</td>\n",
       "      <td>14965.779297</td>\n",
       "      <td>0.765188</td>\n",
       "      <td>0.073110</td>\n",
       "    </tr>\n",
       "    <tr>\n",
       "      <th>6</th>\n",
       "      <td>cont7</td>\n",
       "      <td>14077.039062</td>\n",
       "      <td>0.719747</td>\n",
       "      <td>0.068769</td>\n",
       "    </tr>\n",
       "    <tr>\n",
       "      <th>7</th>\n",
       "      <td>cont12</td>\n",
       "      <td>14001.984375</td>\n",
       "      <td>0.715909</td>\n",
       "      <td>0.068402</td>\n",
       "    </tr>\n",
       "    <tr>\n",
       "      <th>8</th>\n",
       "      <td>cont6</td>\n",
       "      <td>13594.057617</td>\n",
       "      <td>0.695053</td>\n",
       "      <td>0.066409</td>\n",
       "    </tr>\n",
       "    <tr>\n",
       "      <th>9</th>\n",
       "      <td>cont11</td>\n",
       "      <td>13407.513672</td>\n",
       "      <td>0.685515</td>\n",
       "      <td>0.065498</td>\n",
       "    </tr>\n",
       "    <tr>\n",
       "      <th>10</th>\n",
       "      <td>cont10</td>\n",
       "      <td>12992.046875</td>\n",
       "      <td>0.664272</td>\n",
       "      <td>0.063468</td>\n",
       "    </tr>\n",
       "    <tr>\n",
       "      <th>11</th>\n",
       "      <td>cont8</td>\n",
       "      <td>12663.903320</td>\n",
       "      <td>0.647495</td>\n",
       "      <td>0.061865</td>\n",
       "    </tr>\n",
       "    <tr>\n",
       "      <th>12</th>\n",
       "      <td>cont5</td>\n",
       "      <td>12382.500977</td>\n",
       "      <td>0.633107</td>\n",
       "      <td>0.060490</td>\n",
       "    </tr>\n",
       "    <tr>\n",
       "      <th>13</th>\n",
       "      <td>cont9</td>\n",
       "      <td>10823.748047</td>\n",
       "      <td>0.553409</td>\n",
       "      <td>0.052876</td>\n",
       "    </tr>\n",
       "  </tbody>\n",
       "</table>\n",
       "</div>"
      ],
      "text/plain": [
       "   variable  relative_importance  scaled_importance  percentage\n",
       "0     cont4         19558.316406           1.000000    0.095545\n",
       "1     cont3         17909.208984           0.915683    0.087489\n",
       "2    cont13         16731.908203           0.855488    0.081738\n",
       "3     cont2         16466.173828           0.841901    0.080440\n",
       "4    cont14         15127.467773           0.773454    0.073900\n",
       "5     cont1         14965.779297           0.765188    0.073110\n",
       "6     cont7         14077.039062           0.719747    0.068769\n",
       "7    cont12         14001.984375           0.715909    0.068402\n",
       "8     cont6         13594.057617           0.695053    0.066409\n",
       "9    cont11         13407.513672           0.685515    0.065498\n",
       "10   cont10         12992.046875           0.664272    0.063468\n",
       "11    cont8         12663.903320           0.647495    0.061865\n",
       "12    cont5         12382.500977           0.633107    0.060490\n",
       "13    cont9         10823.748047           0.553409    0.052876"
      ]
     },
     "metadata": {},
     "output_type": "display_data"
    },
    {
     "data": {
      "text/plain": []
     },
     "execution_count": 13,
     "metadata": {},
     "output_type": "execute_result"
    }
   ],
   "source": [
    "# The leader model is stored here\n",
    "aml.leader"
   ]
  },
  {
   "cell_type": "code",
   "execution_count": 14,
   "metadata": {
    "execution": {
     "iopub.execute_input": "2021-01-30T07:30:51.660941Z",
     "iopub.status.busy": "2021-01-30T07:30:51.658768Z",
     "iopub.status.idle": "2021-01-30T07:30:54.919021Z",
     "shell.execute_reply": "2021-01-30T07:30:54.918301Z"
    },
    "papermill": {
     "duration": 3.365202,
     "end_time": "2021-01-30T07:30:54.919168",
     "exception": false,
     "start_time": "2021-01-30T07:30:51.553966",
     "status": "completed"
    },
    "tags": []
   },
   "outputs": [
    {
     "name": "stdout",
     "output_type": "stream",
     "text": [
      "gbm prediction progress: |████████████████████████████████████████████████| 100%\n"
     ]
    }
   ],
   "source": [
    "# If you need to generate predictions on a test set, you can make\n",
    "# predictions directly on the `\"H2OAutoML\"` object, or on the leader\n",
    "# model object directly\n",
    "\n",
    "preds = aml.predict(test)"
   ]
  },
  {
   "cell_type": "code",
   "execution_count": 15,
   "metadata": {
    "execution": {
     "iopub.execute_input": "2021-01-30T07:30:55.129216Z",
     "iopub.status.busy": "2021-01-30T07:30:55.128176Z",
     "iopub.status.idle": "2021-01-30T07:30:55.594906Z",
     "shell.execute_reply": "2021-01-30T07:30:55.593712Z"
    },
    "papermill": {
     "duration": 0.572518,
     "end_time": "2021-01-30T07:30:55.595075",
     "exception": false,
     "start_time": "2021-01-30T07:30:55.022557",
     "status": "completed"
    },
    "tags": []
   },
   "outputs": [
    {
     "data": {
      "text/plain": [
       "array([7.98533921, 7.73620547, 7.95771675, ..., 8.19920336, 8.0332086 ,\n",
       "       7.92750251])"
      ]
     },
     "execution_count": 15,
     "metadata": {},
     "output_type": "execute_result"
    }
   ],
   "source": [
    "preds.as_data_frame().values.flatten()"
   ]
  },
  {
   "cell_type": "code",
   "execution_count": 16,
   "metadata": {
    "execution": {
     "iopub.execute_input": "2021-01-30T07:30:55.804775Z",
     "iopub.status.busy": "2021-01-30T07:30:55.804082Z",
     "iopub.status.idle": "2021-01-30T07:30:56.955933Z",
     "shell.execute_reply": "2021-01-30T07:30:56.954976Z"
    },
    "papermill": {
     "duration": 1.259785,
     "end_time": "2021-01-30T07:30:56.956107",
     "exception": false,
     "start_time": "2021-01-30T07:30:55.696322",
     "status": "completed"
    },
    "tags": []
   },
   "outputs": [],
   "source": [
    "subm['target'] = preds.as_data_frame().values.flatten()\n",
    "subm.to_csv('h2o_automl_submission.csv', index=False)"
   ]
  },
  {
   "cell_type": "code",
   "execution_count": 17,
   "metadata": {
    "execution": {
     "iopub.execute_input": "2021-01-30T07:30:57.166594Z",
     "iopub.status.busy": "2021-01-30T07:30:57.165675Z",
     "iopub.status.idle": "2021-01-30T07:30:57.180927Z",
     "shell.execute_reply": "2021-01-30T07:30:57.179493Z"
    },
    "papermill": {
     "duration": 0.122078,
     "end_time": "2021-01-30T07:30:57.181069",
     "exception": false,
     "start_time": "2021-01-30T07:30:57.058991",
     "status": "completed"
    },
    "tags": []
   },
   "outputs": [
    {
     "name": "stdout",
     "output_type": "stream",
     "text": [
      "We are done. That is all, folks!\n",
      "Finished at  2021-01-31 01:56:36.719318\n",
      "Elapsed time:  2:58:14.293329\n"
     ]
    }
   ],
   "source": [
    "print('We are done. That is all, folks!')\n",
    "finish_time = dt.datetime.now()\n",
    "print(\"Finished at \", finish_time)\n",
    "elapsed = finish_time - start_time\n",
    "print(\"Elapsed time: \", elapsed)"
   ]
  },
  {
   "cell_type": "markdown",
   "metadata": {},
   "source": [
    "# Notes\n",
    "\n",
    "## Baseline Without Scaling\n",
    "\n",
    "ModelMetricsRegression: gbm\n",
    "** Reported on train data. **\n",
    "\n",
    "MSE: 0.410455037942908\n",
    "RMSE: 0.6406676501454619\n",
    "MAE: 0.5357954786904653\n",
    "RMSLE: 0.07296302735787598\n",
    "Mean Residual Deviance: 0.410455037942908\n",
    "\n",
    "ModelMetricsRegression: gbm\n",
    "** Reported on cross-validation data. **\n",
    "\n",
    "MSE: 0.4894685817991209\n",
    "RMSE: 0.6996203125975695\n",
    "MAE: 0.5851757939065085\n",
    "RMSLE: 0.07955961419568029\n",
    "Mean Residual Deviance: 0.4894685817991209\n",
    "\n",
    "Public leaderboard score: \n",
    "\n",
    "## Baseline With Scaling\n",
    "\n",
    "ModelMetricsRegression: gbm\n",
    "** Reported on train data. **\n",
    "\n",
    "- MSE: 0.4077463159495112\n",
    "- RMSE: 0.6385501671360765\n",
    "- MAE: 0.533918558661143\n",
    "- RMSLE: 0.07272353821979304\n",
    "Mean Residual Deviance: 0.4077463159495112\n",
    "\n",
    "ModelMetricsRegression: gbm\n",
    "** Reported on cross-validation data. **\n",
    "\n",
    "MSE: 0.4901950676440658\n",
    "RMSE: 0.700139320167112\n",
    "MAE: 0.5853380621343189\n",
    "RMSLE: 0.07961911502862244\n",
    "Mean Residual Deviance: 0.4901950676440658\n",
    "\n",
    "Public leaderboard score: 0.70189"
   ]
  }
 ],
 "metadata": {
  "kernelspec": {
   "display_name": "Python 3",
   "language": "python",
   "name": "python3"
  },
  "language_info": {
   "codemirror_mode": {
    "name": "ipython",
    "version": 3
   },
   "file_extension": ".py",
   "mimetype": "text/x-python",
   "name": "python",
   "nbconvert_exporter": "python",
   "pygments_lexer": "ipython3",
   "version": "3.7.0"
  },
  "papermill": {
   "default_parameters": {},
   "duration": 13561.781908,
   "end_time": "2021-01-30T07:30:58.698298",
   "environment_variables": {},
   "exception": null,
   "input_path": "__notebook__.ipynb",
   "output_path": "__notebook__.ipynb",
   "parameters": {},
   "start_time": "2021-01-30T03:44:56.916390",
   "version": "2.2.2"
  }
 },
 "nbformat": 4,
 "nbformat_minor": 4
}
